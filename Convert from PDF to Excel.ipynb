{
 "cells": [
  {
   "cell_type": "code",
   "execution_count": 1,
   "metadata": {},
   "outputs": [],
   "source": [
    "import pandas as pd \n",
    "import tabula\n",
    "import warnings\n",
    "import openpyxl as pxl\n",
    "from PyPDF2 import PdfFileReader\n",
    "warnings.filterwarnings('ignore')"
   ]
  },
  {
   "cell_type": "code",
   "execution_count": 2,
   "metadata": {},
   "outputs": [],
   "source": [
    "path = \"/Users/kumarkovid/Documents/\"\n",
    "name = \"sample.pdf\"\n",
    "pdf = PdfFileReader(open(path+name,'rb'))\n",
    "num_pages = pdf.getNumPages()"
   ]
  },
  {
   "cell_type": "code",
   "execution_count": 3,
   "metadata": {},
   "outputs": [],
   "source": [
    "df = {}\n",
    "for i in range(num_pages):\n",
    "    df[\"Page{0}\".format(i+1)] = tabula.read_pdf(path+name, pages=i+1)"
   ]
  },
  {
   "cell_type": "code",
   "execution_count": 4,
   "metadata": {},
   "outputs": [],
   "source": [
    "Num_tables_per_page = {}\n",
    "for key, value in df.items():\n",
    "    Num_tables_per_page[key] = len(value)"
   ]
  },
  {
   "cell_type": "code",
   "execution_count": 5,
   "metadata": {},
   "outputs": [],
   "source": [
    "key = [i for i in Num_tables_per_page.keys()]\n",
    "\n",
    "list_df = []   \n",
    "for i in range(len(key)):\n",
    "    k=0\n",
    "    for j in range(Num_tables_per_page[key[i]]):\n",
    "        list_df.append(df[key[i]][k])\n",
    "        k=k+1"
   ]
  },
  {
   "cell_type": "code",
   "execution_count": 6,
   "metadata": {},
   "outputs": [],
   "source": [
    "file_path = path+'Dataframe'+\".xlsx\" # Change File Path\n",
    "list_df[0].to_excel(file_path, encoding='utf-8')"
   ]
  },
  {
   "cell_type": "code",
   "execution_count": 7,
   "metadata": {},
   "outputs": [],
   "source": [
    "writer = pd.ExcelWriter(file_path, engine = 'openpyxl')\n",
    "\n",
    "list_df[0].to_excel(writer, sheet_name = 'Sheet1', encoding='utf-8')\n",
    "for i in range(len(list_df)-1):\n",
    "    list_df[i+1].to_excel(writer, sheet_name = 'Sheet'+ str(i+2))\n",
    "\n",
    "writer.save()\n",
    "writer.close()"
   ]
  }
 ],
 "metadata": {
  "kernelspec": {
   "display_name": "Python 3",
   "language": "python",
   "name": "python3"
  },
  "language_info": {
   "codemirror_mode": {
    "name": "ipython",
    "version": 3
   },
   "file_extension": ".py",
   "mimetype": "text/x-python",
   "name": "python",
   "nbconvert_exporter": "python",
   "pygments_lexer": "ipython3",
   "version": "3.8.5"
  }
 },
 "nbformat": 4,
 "nbformat_minor": 4
}
